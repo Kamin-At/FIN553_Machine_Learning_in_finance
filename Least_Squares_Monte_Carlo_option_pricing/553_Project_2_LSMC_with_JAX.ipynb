{
  "nbformat": 4,
  "nbformat_minor": 0,
  "metadata": {
    "colab": {
      "provenance": [],
      "gpuType": "T4"
    },
    "kernelspec": {
      "name": "python3",
      "display_name": "Python 3"
    },
    "accelerator": "GPU"
  },
  "cells": [
    {
      "cell_type": "markdown",
      "source": [
        "Due date: October 9 2023"
      ],
      "metadata": {
        "id": "Umss_PvMjmPG"
      }
    },
    {
      "cell_type": "markdown",
      "source": [
        "# Description\n",
        "  In this problem we will use apply the LSMC method to price American put options. Specifically, we will replicate the result in the first row, 6th column of Table 1 in [Longstaff and Schwartz 2001](https://www.anderson.ucla.edu/documents/areas/fac/finance/least_squares.pdf)\n",
        "\n",
        "  \n",
        "\n",
        "*  Read the introduction of the [paper](https://www.anderson.ucla.edu/documents/areas/fac/finance/least_squares.pdf).\n",
        "*   We will price an american put option as described in page 126 of the aforementioned article. Read paragraphs 1 and 2 of page 126\n",
        "* As we saw in class, one of the ways we can use linear regression to fit nonlinear functions is to use polynomial features. A common choice in many applications is to use the so called ``Chebyshev polynomials''. Chebyshev polynomials are defined recursively by:\n",
        "\n",
        "\\begin{equation}\n",
        "T_0(x) = 1\\\\\n",
        "T_1(x) = x\\\\\n",
        "T_{n + 1}(x)  =  2 x T_n(x) - T_{n - 1}(x)\\\\\n",
        "\\end{equation}\n"
      ],
      "metadata": {
        "id": "UNMPZrw6ucMH"
      }
    },
    {
      "cell_type": "markdown",
      "source": [
        "# Part 1\n",
        "The code below simulates the evolution of a stock price that follows a geometric brownian motion. Write a JAX version of that code. You are not allowed to use functions from other libraries. For this part, the \"simulate\"\n",
        "function does not need to be jit compiled. As we will see, jit compiling a funciton with for loops may introduce some complications.\n",
        "\n",
        "\n",
        "\n"
      ],
      "metadata": {
        "id": "qszv8niMdzJK"
      }
    },
    {
      "cell_type": "code",
      "metadata": {
        "id": "ypSrQvxzipH4"
      },
      "source": [
        "import jax.numpy as jnp\n",
        "import jax\n",
        "from jax import lax"
      ],
      "execution_count": null,
      "outputs": []
    },
    {
      "cell_type": "code",
      "source": [
        "%%time\n",
        "\n",
        "\n",
        "# Data\n",
        "σ = 0.04\n",
        "r = 0.01\n",
        "K = 35\n",
        "\n",
        "# Design choice\n",
        "dt = 0.01\n",
        "m = 100\n",
        "\n",
        "def simulate():\n",
        "  key = jax.random.PRNGKey(seed = 0)\n",
        "\n",
        "  @jax.jit\n",
        "  def step(S):\n",
        "    nonlocal key\n",
        "    key, subkey = jax.random.split(key)\n",
        "    dZ = jax.random.normal(key=subkey, shape=S.shape) * jnp.sqrt(dt)\n",
        "    dS = r * S  * dt + σ  * S  * dZ\n",
        "    S = S + dS\n",
        "    return S\n",
        "\n",
        "  S0 = jnp.ones(200000)\n",
        "  S = S0\n",
        "  S_list = []\n",
        "  for t in range(m):\n",
        "    S = step(S)\n",
        "    S_list.append(S)\n",
        "\n",
        "  S_array = jnp.stack(S_list)\n",
        "  return S_array\n"
      ],
      "metadata": {
        "id": "fr4VpJMkI8u1",
        "colab": {
          "base_uri": "https://localhost:8080/"
        },
        "outputId": "4a28665e-426b-4157-b70f-4f5f3dc7779d"
      },
      "execution_count": null,
      "outputs": [
        {
          "output_type": "stream",
          "name": "stdout",
          "text": [
            "CPU times: user 5 µs, sys: 0 ns, total: 5 µs\n",
            "Wall time: 8.58 µs\n"
          ]
        }
      ]
    },
    {
      "cell_type": "code",
      "source": [
        "%%time\n",
        "simulated_paths = simulate()"
      ],
      "metadata": {
        "id": "2SHNgnGPLWiC",
        "colab": {
          "base_uri": "https://localhost:8080/"
        },
        "outputId": "0917474c-5ba4-4738-86d8-1349c26e1b96"
      },
      "execution_count": null,
      "outputs": [
        {
          "output_type": "stream",
          "name": "stdout",
          "text": [
            "CPU times: user 198 ms, sys: 8.13 ms, total: 206 ms\n",
            "Wall time: 195 ms\n"
          ]
        }
      ]
    },
    {
      "cell_type": "markdown",
      "source": [
        "# Part 2\n",
        "Write a jit compiled version of the simulate function. You may want to check out the function jax.lax.scan."
      ],
      "metadata": {
        "id": "e9vuveSbJLmq"
      }
    },
    {
      "cell_type": "code",
      "source": [
        "# Data\n",
        "σ = 0.04\n",
        "r = 0.01\n",
        "K = 35\n",
        "\n",
        "# Design choice\n",
        "dt = 0.01\n",
        "m = 100\n",
        "def simulate():\n",
        "  key = jax.random.PRNGKey(seed = 0)\n",
        "  key, subkey = jax.random.split(key)\n",
        "  @jax.jit\n",
        "  def step(S, dZ):\n",
        "    dS = r * S  * dt + σ  * S  * dZ\n",
        "    S = S + dS\n",
        "    return S, S\n",
        "\n",
        "  S0 = jnp.ones(20000)\n",
        "  S = S0\n",
        "  RD_normal = jax.random.normal(key=subkey, shape=(m, S.shape[0])) * jnp.sqrt(dt)\n",
        "  S_list = []\n",
        "  result_init = jnp.zeros(S.shape)\n",
        "\n",
        "  _, result = jax.lax.scan(step, S, RD_normal)\n",
        "  return result\n"
      ],
      "metadata": {
        "id": "D6VdC2QZduv9"
      },
      "execution_count": null,
      "outputs": []
    },
    {
      "cell_type": "code",
      "source": [
        "%%time\n",
        "simulated_paths = simulate()"
      ],
      "metadata": {
        "id": "VqtYZ_cF4iq6",
        "colab": {
          "base_uri": "https://localhost:8080/"
        },
        "outputId": "1b2b506f-9eb8-48dc-ab3e-35bd130560ba"
      },
      "execution_count": null,
      "outputs": [
        {
          "output_type": "stream",
          "name": "stdout",
          "text": [
            "CPU times: user 101 ms, sys: 2.82 ms, total: 104 ms\n",
            "Wall time: 98.2 ms\n"
          ]
        }
      ]
    },
    {
      "cell_type": "markdown",
      "source": [
        "# Part 3\n",
        "The code below computes the price of an American Put option using Least Squares Monte Carlo (LSMC). Write a JAX version of that code. You are not allowed to use functions from other libraries. Your \"compute_price\" function must be jit compiled."
      ],
      "metadata": {
        "id": "YdCFrHUafwBh"
      }
    },
    {
      "cell_type": "code",
      "source": [
        "Spot = 36   # stock price\n",
        "σ = 0.2     # stock volatility\n",
        "K = 40      # strike price\n",
        "r = 0.06    # risk free rate\n",
        "n = 100000  # Number of simualted paths\n",
        "m = 50      # number of exercise dates\n",
        "T = 1       # maturity\n",
        "order = 12   # Polynmial order\n",
        "Δt = T / m  # interval between two exercise dates\n",
        "\n",
        "\n",
        "# Construct polynomial features of order up to k using the\n",
        "# recursive formulation\n",
        "\n",
        "def chebyshev_basis(x, k):\n",
        "    B_init = jnp.ones(len(x)), x\n",
        "    def B(carry, _):\n",
        "      b1, b2 = carry\n",
        "      bn = 2 * x * b2 - b1\n",
        "      return (b2, bn), bn\n",
        "    # print(\"B_init\", B_init)\n",
        "    carry, computed_B = jax.lax.scan(B, B_init, xs=None, length = k-2)\n",
        "    computed_B = jnp.insert(computed_B, 0, values=x, axis=0)\n",
        "    computed_B = jnp.insert(computed_B, 0, values=jnp.ones(len(x)), axis=0)\n",
        "    return computed_B.T\n",
        "\n",
        "# scales x to be in the interval(-1, 1)\n",
        "def scale(x):\n",
        "    xmin = x.min()\n",
        "    xmax = x.max()\n",
        "    a = 2 / (xmax - xmin)\n",
        "    b = 1 - a * xmax\n",
        "    return a * x + b\n",
        "\n",
        "\n",
        "# simulates one step of the stock price evolution\n",
        "def step(S, dZ):\n",
        "  dS = r * S  * Δt + σ  * S  * dZ\n",
        "  S = S + dS\n",
        "  return S, S\n",
        "\n",
        "\n",
        "def payoff_put(S):\n",
        "    return jnp.maximum(K - S, 0.)\n",
        "\n",
        "\n",
        "# LSMC algorithm\n",
        "@jax.jit\n",
        "def compute_price():\n",
        "    key = jax.random.PRNGKey(seed = 1)\n",
        "    key, subkey = jax.random.split(key)\n",
        "\n",
        "    S0 = jnp.ones(n) * Spot\n",
        "    S = S0\n",
        "    RD_normal = jax.random.normal(key=subkey, shape=(m, S.shape[0])) * jnp.sqrt(Δt)\n",
        "    S_list = []\n",
        "    result_init = jnp.zeros(S.shape)\n",
        "\n",
        "    _, S = jax.lax.scan(step, S, RD_normal)\n",
        "\n",
        "    discount = jnp.exp(-r * Δt)\n",
        "    # Very last date\n",
        "    value_if_exercise = payoff_put(S[-1])\n",
        "    discounted_future_cashflows = value_if_exercise * discount\n",
        "    def iteration_replacement(Y, S):\n",
        "      X = chebyshev_basis(scale(S), order)\n",
        "      Θ = jnp.linalg.solve(X.T @ X, X.T @ Y)\n",
        "      value_if_wait = X @ Θ\n",
        "      value_if_exercise = payoff_put(S)\n",
        "      exercise = value_if_exercise >= value_if_wait\n",
        "      new_Y = discount * jnp.where(\n",
        "            exercise,\n",
        "            value_if_exercise,\n",
        "            Y)\n",
        "      return new_Y, new_Y\n",
        "    Y = discounted_future_cashflows\n",
        "    discounted_future_cashflows, _ = jax.lax.scan(iteration_replacement, Y, S[:-1], reverse=True)\n",
        "\n",
        "    return discounted_future_cashflows.mean()"
      ],
      "metadata": {
        "id": "ENKBFoWxcwgj"
      },
      "execution_count": null,
      "outputs": []
    },
    {
      "cell_type": "code",
      "source": [
        "%%time\n",
        "print(compute_price())"
      ],
      "metadata": {
        "id": "YjSWfFqwUpIZ",
        "colab": {
          "base_uri": "https://localhost:8080/"
        },
        "outputId": "aaf8ef44-8144-45de-e7e3-7ef6d9e5d7bf"
      },
      "execution_count": null,
      "outputs": [
        {
          "output_type": "stream",
          "name": "stdout",
          "text": [
            "4.465737\n",
            "CPU times: user 30.9 ms, sys: 971 µs, total: 31.9 ms\n",
            "Wall time: 33.5 ms\n"
          ]
        }
      ]
    },
    {
      "cell_type": "code",
      "source": [],
      "metadata": {
        "id": "s2xnhiuVwBAN"
      },
      "execution_count": null,
      "outputs": []
    }
  ]
}